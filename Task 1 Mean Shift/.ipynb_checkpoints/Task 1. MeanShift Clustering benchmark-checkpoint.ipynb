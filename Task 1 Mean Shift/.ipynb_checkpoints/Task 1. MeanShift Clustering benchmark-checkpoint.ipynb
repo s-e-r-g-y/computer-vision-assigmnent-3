{
 "cells": [
  {
   "cell_type": "code",
   "execution_count": 1,
   "metadata": {},
   "outputs": [],
   "source": [
    "import numpy as np\n",
    "import pandas as pd\n",
    "\n",
    "from sklearn.cluster import MeanShift, estimate_bandwidth"
   ]
  },
  {
   "cell_type": "code",
   "execution_count": 2,
   "metadata": {},
   "outputs": [],
   "source": [
    "PATH = './Cluster/'\n",
    "\n",
    "PATH_TO_DATA_S = PATH + 's3.txt'\n",
    "PATH_TO_RESULT_S = PATH + 's3-cb.txt'"
   ]
  },
  {
   "cell_type": "code",
   "execution_count": 3,
   "metadata": {},
   "outputs": [],
   "source": [
    "# read input data set\n",
    "data = np.array(pd.read_csv(PATH_TO_DATA_S, header=None, delim_whitespace=True))\n",
    "# read ground truth clusters\n",
    "labels = np.sort(np.array(pd.read_csv(PATH_TO_RESULT_S, header=None, delim_whitespace=True)), axis=0)"
   ]
  },
  {
   "cell_type": "code",
   "execution_count": 4,
   "metadata": {},
   "outputs": [],
   "source": [
    "quantile=0.045      # parameter to estimate bandwidth\n",
    "                    # it was matched manually to have 15 clusters\n",
    "\n",
    "bw = estimate_bandwidth(data, quantile=quantile, n_samples=data.shape[0], random_state=100)\n",
    "clustering = MeanShift(bandwidth=bw).fit(data)"
   ]
  },
  {
   "cell_type": "code",
   "execution_count": 5,
   "metadata": {},
   "outputs": [],
   "source": [
    "clusters = np.sort(clustering.cluster_centers_.astype(int), axis=0)"
   ]
  },
  {
   "cell_type": "code",
   "execution_count": 6,
   "metadata": {},
   "outputs": [
    {
     "data": {
      "text/plain": [
       "12945.605752856196"
      ]
     },
     "execution_count": 6,
     "metadata": {},
     "output_type": "execute_result"
    }
   ],
   "source": [
    "distances = np.sqrt((labels[:,0] - clusters[:,0])**2 + (labels[:,1] - clusters[:,1])**2)\n",
    "# mean distance between \n",
    "np.mean(distances)"
   ]
  },
  {
   "cell_type": "markdown",
   "metadata": {},
   "source": [
    "Depite of the mean distance value, the result is pretty good, as point coordinate values are very large. Let's just compare ceters visually."
   ]
  },
  {
   "cell_type": "code",
   "execution_count": 7,
   "metadata": {},
   "outputs": [
    {
     "name": "stdout",
     "output_type": "stream",
     "text": [
      "[[199455 225999]\n",
      " [262865 238715]\n",
      " [302915 259124]\n",
      " [343063 326903]\n",
      " [357180 399919]\n",
      " [369050 403517]\n",
      " [448144 441735]\n",
      " [519488 459637]\n",
      " [526191 464570]\n",
      " [564225 592086]\n",
      " [606784 602502]\n",
      " [666711 653624]\n",
      " [767523 763767]\n",
      " [774316 769922]\n",
      " [775033 787490]]\n",
      "[[192400 213438]\n",
      " [228603 234627]\n",
      " [302308 256784]\n",
      " [339104 295369]\n",
      " [357923 346765]\n",
      " [365597 406680]\n",
      " [440961 445394]\n",
      " [517585 458056]\n",
      " [532869 467162]\n",
      " [571726 591348]\n",
      " [604661 602360]\n",
      " [674703 644492]\n",
      " [763783 768063]\n",
      " [771756 769944]\n",
      " [773235 792663]]\n"
     ]
    }
   ],
   "source": [
    "print(clusters)\n",
    "print(labels)"
   ]
  },
  {
   "cell_type": "code",
   "execution_count": 8,
   "metadata": {},
   "outputs": [],
   "source": [
    "PATH_TO_DATA_G2 = PATH + 'g2-2-100.txt'\n",
    "PATH_TO_RESULT_G2 = PATH + 'g2-2-100-gt.txt'"
   ]
  },
  {
   "cell_type": "code",
   "execution_count": 9,
   "metadata": {},
   "outputs": [],
   "source": [
    "# read input data set\n",
    "data_g2 = np.array(pd.read_csv(PATH_TO_DATA_G2, header=None, delim_whitespace=True))\n",
    "# read ground truth clusters\n",
    "labels_g2 = np.sort(np.array(pd.read_csv(PATH_TO_RESULT_G2, header=None, delim_whitespace=True)), axis=0)"
   ]
  },
  {
   "cell_type": "code",
   "execution_count": 10,
   "metadata": {},
   "outputs": [],
   "source": [
    "quantile_g2=0.1       # parameter to estimate bandwidth\n",
    "                      # it was matched manually to have 2 clusters\n",
    "\n",
    "bw_g2 = estimate_bandwidth(data_g2, quantile=quantile_g2, n_samples=data_g2.shape[0], random_state=100)\n",
    "clustering_g2 = MeanShift(bandwidth=bw_g2).fit(data_g2)\n",
    "\n",
    "clusters_g2 = np.sort(clustering_g2.cluster_centers_.astype(int), axis=0)"
   ]
  },
  {
   "cell_type": "code",
   "execution_count": 11,
   "metadata": {},
   "outputs": [
    {
     "data": {
      "text/plain": [
       "218.89642843508443"
      ]
     },
     "execution_count": 11,
     "metadata": {},
     "output_type": "execute_result"
    }
   ],
   "source": [
    "distances_g2 = np.sqrt((labels_g2[:,0] - clusters_g2[:,0])**2 + (labels_g2[:,1] - clusters_g2[:,1])**2)\n",
    "# mean distance between predicted and \n",
    "np.mean(distances_g2)"
   ]
  },
  {
   "cell_type": "code",
   "execution_count": 12,
   "metadata": {},
   "outputs": [
    {
     "name": "stdout",
     "output_type": "stream",
     "text": [
      "[[445 555]\n",
      " [562 958]]\n",
      "[[500 500]\n",
      " [600 600]]\n"
     ]
    }
   ],
   "source": [
    "print(clusters_g2)\n",
    "print(labels_g2)"
   ]
  },
  {
   "cell_type": "markdown",
   "metadata": {},
   "source": [
    "On the G2 dataset result does not seem very good. The first cluster center is predicted pretty well but the second has a large difference of the second value. It looks like it happend due to cluster overlap."
   ]
  }
 ],
 "metadata": {
  "kernelspec": {
   "display_name": "Python 3",
   "language": "python",
   "name": "python3"
  },
  "language_info": {
   "codemirror_mode": {
    "name": "ipython",
    "version": 3
   },
   "file_extension": ".py",
   "mimetype": "text/x-python",
   "name": "python",
   "nbconvert_exporter": "python",
   "pygments_lexer": "ipython3",
   "version": "3.7.1"
  }
 },
 "nbformat": 4,
 "nbformat_minor": 2
}
