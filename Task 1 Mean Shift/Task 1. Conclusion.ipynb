{
 "cells": [
  {
   "cell_type": "markdown",
   "metadata": {},
   "source": [
    "## Conclusion"
   ]
  },
  {
   "cell_type": "markdown",
   "metadata": {},
   "source": [
    "I took 5 different datasets (Bolt, Basketball, Soccer, Jump and Box) for comapring MeanShift and CamShift algorithms. I manage to find pretty well parameters for Bolt and BAsketball datasets and MeanShift tracker works well on it. That datasets are very appropriate to Mean Shift method as the size of the object is not being changed too much during tracking. Also object does not overlap other similar objects. The other datasets are not so suitable to track with Mean or Cam Shift methods. I'll dwell upon it below.\n",
    "\n",
    "\n",
    "#### 1) Main steps\n",
    "\n",
    "First of all, we take ROI in HSV format and calculate the histogram for it. Also I apply mask to reject colors which don't match our object. Also, I normilize histogram to prevent from changing brightness.\n",
    "\n",
    "#### 2) Parameters tuning\n",
    "\n",
    "I tuned 2 parameters: bin size and mask filter. To tune filters I built mask of the frame and check if a target object is highlighted enough. Brightness of the image area means matching this area to the histogram. I choose interval of the hue value which describes the target object in the best way.\n",
    "\n",
    "#### 3) Conclusion for each dataset\n",
    "\n",
    "Bolt. The size of the traget object on this dataset is pretty stable and meansift works well here. There was an issue due to having one more very similar object and tracker always lost target object while tuning. \n",
    "\n",
    "Basketball is the easiets dataset for tuning as the background and object size is similar. There was only issue when object overlap another teammate.\n",
    "\n",
    "\n",
    "CamShift works pretty well at the start of the tracking and then it loses object and it jumps to the other similar objects.\n",
    "\n",
    "Soccer. It's very difficult dataset for MeanShift as the object size is being changed and it's overlapped by the other object and at the end of the video another similar object becomes closer to the camera and tracker jumps to it. The CamShift in this case works better.\n",
    "\n",
    "\n",
    "Jump. Mean Shift tracker loses a target object very fast as it changes the form and size. Along with it there are a pillar which is very similar to the initila object. CamShift works better but it takes to large area.\n",
    "\n",
    "\n",
    "Box. It's the most difficult case as the box is being changed all time. The glows appear from time to time on the object. In addition, the variety of backgroung is vary high. Along with it, I see the glow on the target object on the very first frame which makes it diffucult to track it. Both methods work badly in this case.\n",
    "\n",
    "\n",
    "#### 4) Future improvements\n",
    "\n",
    "As further steps I would consider some heuristic methods to find mask filter to calculate the range of hue.\n",
    "\n",
    "Also it's worth to try some kernels to the mask to get rid of noise.\n",
    "\n",
    "And finally, I'd check some other tracking methods which are more robust to the object size and background variety.\n"
   ]
  }
 ],
 "metadata": {
  "kernelspec": {
   "display_name": "Python 3",
   "language": "python",
   "name": "python3"
  },
  "language_info": {
   "codemirror_mode": {
    "name": "ipython",
    "version": 3
   },
   "file_extension": ".py",
   "mimetype": "text/x-python",
   "name": "python",
   "nbconvert_exporter": "python",
   "pygments_lexer": "ipython3",
   "version": "3.7.1"
  }
 },
 "nbformat": 4,
 "nbformat_minor": 2
}
